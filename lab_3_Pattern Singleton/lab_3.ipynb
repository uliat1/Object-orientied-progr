{
 "cells": [
  {
   "cell_type": "markdown",
   "metadata": {},
   "source": [
    "В данном примере будет представлена реализация паттерна `Singleton` на Python, который будет использоваться для работы с векторами и выполнения над ними различных операций. "
   ]
  },
  {
   "cell_type": "code",
   "execution_count": 1,
   "metadata": {},
   "outputs": [
    {
     "name": "stdout",
     "output_type": "stream",
     "text": [
      "Creating the object\n",
      "32\n",
      "[-3, 6, -3]\n",
      "[3, 6, 9]\n",
      "True\n"
     ]
    }
   ],
   "source": [
    "class VectorOperationsSingleton:\n",
    "    _instance = None\n",
    "\n",
    "    def __new__(cls):\n",
    "        if cls._instance is None:\n",
    "            print('Creating the object')\n",
    "            cls._instance = super(VectorOperationsSingleton, cls).__new__(cls)\n",
    "        return cls._instance\n",
    "\n",
    "    @staticmethod\n",
    "    def dot_product(vector1, vector2):\n",
    "        return sum(a*b for a, b in zip(vector1, vector2))\n",
    "\n",
    "    @staticmethod\n",
    "    def cross_product(vector1, vector2):\n",
    "        return [vector1[1]*vector2[2] - vector1[2]*vector2[1],\n",
    "                vector1[2]*vector2[0] - vector1[0]*vector2[2],\n",
    "                vector1[0]*vector2[1] - vector1[1]*vector2[0]]\n",
    "\n",
    "    @staticmethod\n",
    "    def scalar_multiplication(vector, scalar):\n",
    "        return [scalar*i for i in vector]\n",
    "\n",
    "\n",
    "vectors = VectorOperationsSingleton()\n",
    "print(vectors.dot_product([1, 2, 3], [4, 5, 6]))\n",
    "print(vectors.cross_product([1, 2, 3], [4, 5, 6]))\n",
    "print(vectors.scalar_multiplication([1, 2, 3], 3))\n",
    "\n",
    "vectors2 = VectorOperationsSingleton()\n",
    "print(vectors is vectors2) \n"
   ]
  },
  {
   "cell_type": "markdown",
   "metadata": {},
   "source": [
    "В данном коде мы создаем класс VectorOperationsSingleton, который имеет статические методы для выполнения различных операций над векторами: скалярного произведения, векторного произведения и умножения вектора на скаляр. \n",
    "\n",
    "При создании нового экземпляра данного класса, в первую очередь проверяется, был ли уже создан экземпляр этого класса. Если да, то возвращается ссылка на уже существующий экземпляр, если нет - создается новый. Таким образом, гарантируется, что экземпляр данного класса будет только один. \n"
   ]
  }
 ],
 "metadata": {
  "kernelspec": {
   "display_name": "Python 3",
   "language": "python",
   "name": "python3"
  },
  "language_info": {
   "codemirror_mode": {
    "name": "ipython",
    "version": 3
   },
   "file_extension": ".py",
   "mimetype": "text/x-python",
   "name": "python",
   "nbconvert_exporter": "python",
   "pygments_lexer": "ipython3",
   "version": "3.10.0"
  }
 },
 "nbformat": 4,
 "nbformat_minor": 2
}
