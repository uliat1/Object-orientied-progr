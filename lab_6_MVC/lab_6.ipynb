{
 "cells": [
  {
   "cell_type": "markdown",
   "metadata": {},
   "source": [
    "В данном случае мы будем рассматривать скалярное и векторное произведение векторов.\n",
    "\n",
    "`Модель (Model)` будет представлять собой класс Vector, который будет хранить координаты вектора и иметь методы для вычисления скалярного и векторного произведения."
   ]
  },
  {
   "cell_type": "code",
   "execution_count": null,
   "metadata": {},
   "outputs": [],
   "source": [
    "class Vector:\n",
    "    def __init__(self, coordinates):\n",
    "        self.coordinates = coordinates\n",
    "\n",
    "    def dot_product(self, other):\n",
    "        return sum(a*b for a, b in zip(self.coordinates, other.coordinates))\n",
    "\n",
    "    def cross_product(self, other):\n",
    "        x = self.coordinates[1]*other.coordinates[2] - self.coordinates[2]*other.coordinates[1]\n",
    "        y = self.coordinates[2]*other.coordinates[0] - self.coordinates[0]*other.coordinates[2]\n",
    "        z = self.coordinates[0]*other.coordinates[1] - self.coordinates[1]*other.coordinates[0]\n",
    "        return Vector([x, y, z])\n"
   ]
  },
  {
   "cell_type": "markdown",
   "metadata": {},
   "source": [
    "\n",
    "`Представление (View)` будет отвечать за взаимодействие с пользователем - вывод запросов на ввод данных и вывод результатов вычислений."
   ]
  },
  {
   "cell_type": "code",
   "execution_count": null,
   "metadata": {},
   "outputs": [],
   "source": [
    "class VectorView:\n",
    "    @staticmethod\n",
    "    def get_vector_coordinates():\n",
    "        return list(map(float, input(\"Enter vector coordinates: \").split()))\n",
    "\n",
    "    @staticmethod\n",
    "    def show_dot_product(dot_product):\n",
    "        print(f\"Dot product is: {dot_product}\")\n",
    "\n",
    "    @staticmethod\n",
    "    def show_cross_product(vector):\n",
    "        print(f\"Cross product is: {vector.coordinates}\")\n"
   ]
  },
  {
   "cell_type": "markdown",
   "metadata": {},
   "source": [
    "`Контроллер (Controller)` будет связывать модель и представление, управляя обменом данных между ними."
   ]
  },
  {
   "cell_type": "code",
   "execution_count": null,
   "metadata": {},
   "outputs": [],
   "source": [
    "class VectorController:\n",
    "    def __init__(self, model, view):\n",
    "        self.model = model\n",
    "        self.view = view\n",
    "\n",
    "    def get_data_and_calculate_result(self):\n",
    "        vector1_coordinates = self.view.get_vector_coordinates()\n",
    "        vector1 = self.model(vector1_coordinates)\n",
    "\n",
    "        vector2_coordinates = self.view.get_vector_coordinates()\n",
    "        vector2 = self.model(vector2_coordinates)\n",
    "\n",
    "        dot_product = vector1.dot_product(vector2)\n",
    "        self.view.show_dot_product(dot_product)\n",
    "\n",
    "        cross_product = vector1.cross_product(vector2)\n",
    "        self.view.show_cross_product(cross_product)\n"
   ]
  },
  {
   "cell_type": "markdown",
   "metadata": {},
   "source": [
    "создаем экземпляры модели, представления и контроллера, а затем вызываем метод контроллера для выполнения вычислений."
   ]
  },
  {
   "cell_type": "code",
   "execution_count": null,
   "metadata": {},
   "outputs": [],
   "source": [
    "if __name__ == \"__main__\":\n",
    "    model = Vector\n",
    "    view = VectorView\n",
    "    controller = VectorController(model, view)\n",
    "\n",
    "    controller.get_data_and_calculate_result()\n"
   ]
  },
  {
   "cell_type": "markdown",
   "metadata": {},
   "source": [
    "При запуске этой программы она попросит пользователя ввести координаты двух векторов, затем вычислит скалярное и векторное произведение этих векторов и выведет результаты."
   ]
  }
 ],
 "metadata": {
  "kernelspec": {
   "display_name": "Python 3",
   "language": "python",
   "name": "python3"
  },
  "language_info": {
   "codemirror_mode": {
    "name": "ipython",
    "version": 3
   },
   "file_extension": ".py",
   "mimetype": "text/x-python",
   "name": "python",
   "nbconvert_exporter": "python",
   "pygments_lexer": "ipython3",
   "version": "3.10.0"
  }
 },
 "nbformat": 4,
 "nbformat_minor": 2
}
