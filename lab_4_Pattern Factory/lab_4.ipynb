{
 "cells": [
  {
   "cell_type": "markdown",
   "metadata": {},
   "source": [
    "В данном примере будет представлена реализация паттерна <b>Factory</b> на Python для выполнения различных операций с векторами, включая скалярное произведение, векторное произведение и вычисление длины вектора."
   ]
  },
  {
   "cell_type": "code",
   "execution_count": 1,
   "metadata": {},
   "outputs": [
    {
     "name": "stdout",
     "output_type": "stream",
     "text": [
      "2.23606797749979\n",
      "11\n",
      "-2\n",
      "3.7416573867739413\n",
      "32\n",
      "[-3, 6, -3]\n"
     ]
    }
   ],
   "source": [
    "import math\n",
    "\n",
    "class Vector:\n",
    "    def __init__(self, coordinates):\n",
    "        self.coordinates = coordinates\n",
    "\n",
    "    def length(self):\n",
    "        return math.sqrt(sum(i**2 for i in self.coordinates))\n",
    "\n",
    "class Vector2D(Vector):\n",
    "    def __init__(self, coordinates):\n",
    "        assert len(coordinates) == 2\n",
    "        super().__init__(coordinates)\n",
    "\n",
    "    def dot_product(self, other):\n",
    "        assert isinstance(other, Vector2D)\n",
    "        return sum(a*b for a, b in zip(self.coordinates, other.coordinates))\n",
    "\n",
    "    def cross_product(self, other):\n",
    "        assert isinstance(other, Vector2D)\n",
    "        return self.coordinates[0]*other.coordinates[1] - self.coordinates[1]*other.coordinates[0]\n",
    "\n",
    "class Vector3D(Vector):\n",
    "    def __init__(self, coordinates):\n",
    "        assert len(coordinates) == 3\n",
    "        super().__init__(coordinates)\n",
    "\n",
    "    def dot_product(self, other):\n",
    "        assert isinstance(other, Vector3D)\n",
    "        return sum(a*b for a, b in zip(self.coordinates, other.coordinates))\n",
    "\n",
    "    def cross_product(self, other):\n",
    "        assert isinstance(other, Vector3D)\n",
    "        x = self.coordinates[1]*other.coordinates[2] - self.coordinates[2]*other.coordinates[1]\n",
    "        y = self.coordinates[2]*other.coordinates[0] - self.coordinates[0]*other.coordinates[2]\n",
    "        z = self.coordinates[0]*other.coordinates[1] - self.coordinates[1]*other.coordinates[0]\n",
    "        return Vector3D([x, y, z])\n",
    "\n",
    "class VectorFactory:\n",
    "    @staticmethod\n",
    "    def create_vector(type, coordinates):\n",
    "        if type == '2D':\n",
    "            return Vector2D(coordinates)\n",
    "        elif type == '3D':\n",
    "            return Vector3D(coordinates)\n",
    "        else:\n",
    "            raise ValueError(\"Invalid type\")\n",
    "\n",
    "vector_factory = VectorFactory()\n",
    "vector_2D_1 = vector_factory.create_vector('2D', [1, 2])\n",
    "vector_2D_2 = vector_factory.create_vector('2D', [3, 4])\n",
    "vector_3D_1 = vector_factory.create_vector('3D', [1, 2, 3])\n",
    "vector_3D_2 = vector_factory.create_vector('3D', [4, 5, 6])\n",
    "\n",
    "print(vector_2D_1.length()) \n",
    "print(vector_2D_1.dot_product(vector_2D_2))  \n",
    "print(vector_2D_1.cross_product(vector_2D_2))  \n",
    "\n",
    "print(vector_3D_1.length()) \n",
    "print(vector_3D_1.dot_product(vector_3D_2)) \n",
    "print(vector_3D_1.cross_product(vector_3D_2).coordinates)  \n"
   ]
  },
  {
   "cell_type": "markdown",
   "metadata": {},
   "source": [
    "В данном коде классы Vector, Vector2D и Vector3D представляют векторы различной размерности и имеют методы для выполнения различных операций. Класс VectorFactory реализует паттерн Factory и имеет статический метод create_vector, который принимает тип вектора и его координаты, и возвращает объект соответствующего класса."
   ]
  }
 ],
 "metadata": {
  "kernelspec": {
   "display_name": "Python 3",
   "language": "python",
   "name": "python3"
  },
  "language_info": {
   "codemirror_mode": {
    "name": "ipython",
    "version": 3
   },
   "file_extension": ".py",
   "mimetype": "text/x-python",
   "name": "python",
   "nbconvert_exporter": "python",
   "pygments_lexer": "ipython3",
   "version": "3.10.0"
  }
 },
 "nbformat": 4,
 "nbformat_minor": 2
}
